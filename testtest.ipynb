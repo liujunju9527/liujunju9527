{
  "cells": [
    {
      "cell_type": "markdown",
      "metadata": {
        "id": "view-in-github",
        "colab_type": "text"
      },
      "source": [
        "<a href=\"https://colab.research.google.com/github/liujunju9527/liujunju9527/blob/main/testtest.ipynb\" target=\"_parent\"><img src=\"https://colab.research.google.com/assets/colab-badge.svg\" alt=\"Open In Colab\"/></a>"
      ]
    },
    {
      "cell_type": "code",
      "source": [
        "print(\"security test  qw\")"
      ],
      "metadata": {
        "id": "VozldFUoXC5Y",
        "outputId": "5f45b75a-fde3-4fcf-824c-0b04bd89c6a5",
        "colab": {
          "base_uri": "https://localhost:8080/"
        }
      },
      "execution_count": 1,
      "outputs": [
        {
          "output_type": "stream",
          "name": "stdout",
          "text": [
            "security test\n"
          ]
        }
      ]
    },
    {
      "cell_type": "markdown",
      "source": [
        "安全测试"
      ],
      "metadata": {
        "id": "38NF33bLXJ-K"
      }
    }
  ],
  "metadata": {
    "colab": {
      "collapsed_sections": [],
      "name": "testtest",
      "provenance": [],
      "toc_visible": true,
      "include_colab_link": true
    },
    "kernelspec": {
      "display_name": "Python 3",
      "name": "python3"
    }
  },
  "nbformat": 4,
  "nbformat_minor": 0
}