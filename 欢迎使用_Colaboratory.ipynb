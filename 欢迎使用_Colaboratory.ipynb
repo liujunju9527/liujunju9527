{
  "cells": [
    {
      "cell_type": "markdown",
      "metadata": {
        "id": "view-in-github",
        "colab_type": "text"
      },
      "source": [
        "<a href=\"https://colab.research.google.com/github/liujunju9527/liujunju9527/blob/main/%E6%AC%A2%E8%BF%8E%E4%BD%BF%E7%94%A8_Colaboratory.ipynb\" target=\"_parent\"><img src=\"https://colab.research.google.com/assets/colab-badge.svg\" alt=\"Open In Colab\"/></a>"
      ]
    },
    {
      "cell_type": "code",
      "source": [
        "print(\"security test\")"
      ],
      "metadata": {
        "id": "VozldFUoXC5Y",
        "outputId": "9c244d75-f007-4ad6-d748-f7cae7681eca",
        "colab": {
          "base_uri": "https://localhost:8080/"
        }
      },
      "execution_count": null,
      "outputs": [
        {
          "output_type": "stream",
          "name": "stdout",
          "text": [
            "security test\n"
          ]
        }
      ]
    },
    {
      "cell_type": "markdown",
      "source": [
        "安全测试"
      ],
      "metadata": {
        "id": "38NF33bLXJ-K"
      }
    }
  ],
  "metadata": {
    "colab": {
      "collapsed_sections": [],
      "name": "欢迎使用 Colaboratory",
      "provenance": [],
      "include_colab_link": true
    },
    "kernelspec": {
      "display_name": "Python 3",
      "name": "python3"
    }
  },
  "nbformat": 4,
  "nbformat_minor": 0
}